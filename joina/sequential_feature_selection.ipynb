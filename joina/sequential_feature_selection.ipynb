{
 "cells": [
  {
   "cell_type": "code",
   "execution_count": 1,
   "id": "22dd38dc",
   "metadata": {},
   "outputs": [],
   "source": [
    "import os\n",
    "import numpy as np\n",
    "import pandas as pd\n",
    "import csv"
   ]
  },
  {
   "cell_type": "code",
   "execution_count": 2,
   "id": "d7d243c1",
   "metadata": {},
   "outputs": [],
   "source": [
    "from sklearn.feature_selection import SequentialFeatureSelector\n",
    "from sklearn.neighbors import KNeighborsClassifier"
   ]
  },
  {
   "cell_type": "code",
   "execution_count": 3,
   "id": "3068ff49",
   "metadata": {
    "scrolled": true
   },
   "outputs": [
    {
     "data": {
      "text/plain": [
       "'/Users/chiehyuc/Desktop/Risk_Factor_Analysis_of_Obstructive-Sleep_Apnea/joina'"
      ]
     },
     "execution_count": 3,
     "metadata": {},
     "output_type": "execute_result"
    }
   ],
   "source": [
    "os.getcwd()"
   ]
  },
  {
   "cell_type": "code",
   "execution_count": 4,
   "id": "4cd7b9e2",
   "metadata": {},
   "outputs": [],
   "source": [
    "os.chdir('/Users')"
   ]
  },
  {
   "cell_type": "code",
   "execution_count": 5,
   "id": "ff07e978",
   "metadata": {},
   "outputs": [],
   "source": [
    "path = ('/Users/chiehyuc/Desktop/stroke_data/')\n",
    "xlsx = pd.ExcelFile(path+'Stroke-cleared-with_subgroup.xlsx')\n",
    "male_df = pd.read_excel(xlsx, 'Male')\n",
    "female_df = pd.read_excel(xlsx, 'Female')"
   ]
  },
  {
   "cell_type": "code",
   "execution_count": 6,
   "id": "221c2ce6",
   "metadata": {},
   "outputs": [],
   "source": [
    "from pathlib import Path\n",
    "\n",
    "filepath = Path('/Users/chiehyuc/Desktop/stroke_data/female_stroke_data.csv')  \n",
    "filepath.parent.mkdir(parents=True, exist_ok=True)  \n",
    "female_df.to_csv(filepath, index=False)\n",
    "\n",
    "filepath = Path('/Users/chiehyuc/Desktop/stroke_data/male_stroke_data.csv')  \n",
    "filepath.parent.mkdir(parents=True, exist_ok=True)  \n",
    "male_df.to_csv(filepath, index=False)"
   ]
  },
  {
   "cell_type": "code",
   "execution_count": 6,
   "id": "c6f13ee9",
   "metadata": {},
   "outputs": [],
   "source": [
    "csv_path = ('/Users/chiehyuc/Desktop/stroke_data/')\n",
    "\n",
    "male_df = pd.read_csv(csv_path + 'male_stroke_data.csv')\n",
    "female_df = pd.read_csv(csv_path + 'female_stroke_data.csv')"
   ]
  },
  {
   "cell_type": "code",
   "execution_count": 7,
   "id": "4658af2a",
   "metadata": {},
   "outputs": [],
   "source": [
    "female_df = female_df.drop(columns=[\"sex\"])\n",
    "male_df = male_df.drop(columns=[\"sex\"])"
   ]
  },
  {
   "cell_type": "code",
   "execution_count": 8,
   "id": "8ceba6f6",
   "metadata": {},
   "outputs": [],
   "source": [
    "# female_X = list(female_df)[1:]\n",
    "# female_y = list(female_df)[0]\n",
    "\n",
    "# male_X = list(male_df)[1:]\n",
    "# male_y = list(male_df)[0]"
   ]
  },
  {
   "cell_type": "code",
   "execution_count": 9,
   "id": "7e2999bd",
   "metadata": {},
   "outputs": [],
   "source": [
    "female_df_columns = (female_df.columns[1:])\n",
    "female_X = female_df[female_df_columns].values\n",
    "female_y = female_df['Second_Stroke'].values"
   ]
  },
  {
   "cell_type": "code",
   "execution_count": 11,
   "id": "254f18b1",
   "metadata": {
    "scrolled": true
   },
   "outputs": [
    {
     "name": "stdout",
     "output_type": "stream",
     "text": [
      "Collecting smote_variants\n",
      "  Downloading smote_variants-1.0.1-py3-none-any.whl.metadata (35 kB)\n",
      "Requirement already satisfied: numpy in ./chiehyuc/opt/anaconda3/lib/python3.8/site-packages (from smote_variants) (1.21.0)\n",
      "Requirement already satisfied: scipy in ./chiehyuc/opt/anaconda3/lib/python3.8/site-packages (from smote_variants) (1.6.2)\n",
      "Requirement already satisfied: scikit-learn in ./chiehyuc/opt/anaconda3/lib/python3.8/site-packages (from smote_variants) (0.24.2)\n",
      "Requirement already satisfied: joblib in ./chiehyuc/opt/anaconda3/lib/python3.8/site-packages (from smote_variants) (1.0.1)\n",
      "Collecting minisom (from smote_variants)\n",
      "  Downloading minisom-2.3.5.tar.gz (12 kB)\n",
      "  Preparing metadata (setup.py) ... \u001b[?25ldone\n",
      "\u001b[?25hCollecting statistics (from smote_variants)\n",
      "  Downloading statistics-1.0.3.5.tar.gz (8.3 kB)\n",
      "  Preparing metadata (setup.py) ... \u001b[?25ldone\n",
      "\u001b[?25hRequirement already satisfied: tensorflow in ./chiehyuc/opt/anaconda3/lib/python3.8/site-packages (from smote_variants) (2.13.1)\n",
      "Requirement already satisfied: keras in ./chiehyuc/opt/anaconda3/lib/python3.8/site-packages (from smote_variants) (2.13.1)\n",
      "Requirement already satisfied: pandas in ./chiehyuc/opt/anaconda3/lib/python3.8/site-packages (from smote_variants) (1.3.0)\n",
      "Collecting mkl (from smote_variants)\n",
      "  Downloading mkl-2023.2.2-py2.py3-none-macosx_10_15_x86_64.macosx_11_0_x86_64.whl.metadata (1.3 kB)\n",
      "Collecting metric_learn (from smote_variants)\n",
      "  Downloading metric_learn-0.7.0-py2.py3-none-any.whl.metadata (5.2 kB)\n",
      "Requirement already satisfied: seaborn in ./chiehyuc/opt/anaconda3/lib/python3.8/site-packages (from smote_variants) (0.11.1)\n",
      "Requirement already satisfied: threadpoolctl>=2.0.0 in ./chiehyuc/opt/anaconda3/lib/python3.8/site-packages (from scikit-learn->smote_variants) (2.2.0)\n",
      "Collecting intel-openmp==2023.* (from mkl->smote_variants)\n",
      "  Downloading intel_openmp-2023.2.0-py2.py3-none-macosx_10_15_x86_64.macosx_11_0_x86_64.whl.metadata (1.1 kB)\n",
      "Collecting tbb==2021.* (from mkl->smote_variants)\n",
      "  Downloading tbb-2021.10.0-py2.py3-none-macosx_10_15_x86_64.macosx_11_0_x86_64.whl.metadata (989 bytes)\n",
      "Requirement already satisfied: python-dateutil>=2.7.3 in ./chiehyuc/opt/anaconda3/lib/python3.8/site-packages (from pandas->smote_variants) (2.8.2)\n",
      "Requirement already satisfied: pytz>=2017.3 in ./chiehyuc/opt/anaconda3/lib/python3.8/site-packages (from pandas->smote_variants) (2021.1)\n",
      "Requirement already satisfied: matplotlib>=2.2 in ./chiehyuc/opt/anaconda3/lib/python3.8/site-packages (from seaborn->smote_variants) (3.3.4)\n",
      "Requirement already satisfied: docutils>=0.3 in ./chiehyuc/opt/anaconda3/lib/python3.8/site-packages (from statistics->smote_variants) (0.17.1)\n",
      "Requirement already satisfied: absl-py>=1.0.0 in ./chiehyuc/opt/anaconda3/lib/python3.8/site-packages (from tensorflow->smote_variants) (2.2.1)\n",
      "Requirement already satisfied: astunparse>=1.6.0 in ./chiehyuc/opt/anaconda3/lib/python3.8/site-packages (from tensorflow->smote_variants) (1.6.3)\n",
      "Requirement already satisfied: flatbuffers>=23.1.21 in ./chiehyuc/opt/anaconda3/lib/python3.8/site-packages (from tensorflow->smote_variants) (25.2.10)\n",
      "Requirement already satisfied: gast<=0.4.0,>=0.2.1 in ./chiehyuc/opt/anaconda3/lib/python3.8/site-packages (from tensorflow->smote_variants) (0.4.0)\n",
      "Requirement already satisfied: google-pasta>=0.1.1 in ./chiehyuc/opt/anaconda3/lib/python3.8/site-packages (from tensorflow->smote_variants) (0.2.0)\n",
      "Requirement already satisfied: h5py>=2.9.0 in ./chiehyuc/opt/anaconda3/lib/python3.8/site-packages (from tensorflow->smote_variants) (2.10.0)\n",
      "Requirement already satisfied: libclang>=13.0.0 in ./chiehyuc/opt/anaconda3/lib/python3.8/site-packages (from tensorflow->smote_variants) (18.1.1)\n",
      "Collecting numpy (from smote_variants)\n",
      "  Downloading numpy-1.22.4-cp38-cp38-macosx_10_15_x86_64.whl.metadata (2.0 kB)\n",
      "Requirement already satisfied: opt-einsum>=2.3.2 in ./chiehyuc/opt/anaconda3/lib/python3.8/site-packages (from tensorflow->smote_variants) (3.4.0)\n",
      "Requirement already satisfied: packaging in ./chiehyuc/opt/anaconda3/lib/python3.8/site-packages (from tensorflow->smote_variants) (21.0)\n",
      "Requirement already satisfied: protobuf!=4.21.0,!=4.21.1,!=4.21.2,!=4.21.3,!=4.21.4,!=4.21.5,<5.0.0dev,>=3.20.3 in ./chiehyuc/opt/anaconda3/lib/python3.8/site-packages (from tensorflow->smote_variants) (4.25.6)\n",
      "Requirement already satisfied: setuptools in ./chiehyuc/opt/anaconda3/lib/python3.8/site-packages (from tensorflow->smote_variants) (52.0.0.post20210125)\n",
      "Requirement already satisfied: six>=1.12.0 in ./chiehyuc/opt/anaconda3/lib/python3.8/site-packages (from tensorflow->smote_variants) (1.16.0)\n",
      "Requirement already satisfied: termcolor>=1.1.0 in ./chiehyuc/opt/anaconda3/lib/python3.8/site-packages (from tensorflow->smote_variants) (2.4.0)\n",
      "Requirement already satisfied: typing-extensions<4.6.0,>=3.6.6 in ./chiehyuc/opt/anaconda3/lib/python3.8/site-packages (from tensorflow->smote_variants) (3.10.0.0)\n",
      "Requirement already satisfied: wrapt>=1.11.0 in ./chiehyuc/opt/anaconda3/lib/python3.8/site-packages (from tensorflow->smote_variants) (1.12.1)\n",
      "Requirement already satisfied: grpcio<2.0,>=1.24.3 in ./chiehyuc/opt/anaconda3/lib/python3.8/site-packages (from tensorflow->smote_variants) (1.70.0)\n",
      "Requirement already satisfied: tensorboard<2.14,>=2.13 in ./chiehyuc/opt/anaconda3/lib/python3.8/site-packages (from tensorflow->smote_variants) (2.13.0)\n",
      "Requirement already satisfied: tensorflow-estimator<2.14,>=2.13.0 in ./chiehyuc/opt/anaconda3/lib/python3.8/site-packages (from tensorflow->smote_variants) (2.13.0)\n",
      "Requirement already satisfied: tensorflow-io-gcs-filesystem>=0.23.1 in ./chiehyuc/opt/anaconda3/lib/python3.8/site-packages (from tensorflow->smote_variants) (0.34.0)\n",
      "Requirement already satisfied: wheel<1.0,>=0.23.0 in ./chiehyuc/opt/anaconda3/lib/python3.8/site-packages (from astunparse>=1.6.0->tensorflow->smote_variants) (0.36.2)\n",
      "Requirement already satisfied: cycler>=0.10 in ./chiehyuc/opt/anaconda3/lib/python3.8/site-packages (from matplotlib>=2.2->seaborn->smote_variants) (0.10.0)\n",
      "Requirement already satisfied: kiwisolver>=1.0.1 in ./chiehyuc/opt/anaconda3/lib/python3.8/site-packages (from matplotlib>=2.2->seaborn->smote_variants) (1.3.1)\n",
      "Requirement already satisfied: pillow>=6.2.0 in ./chiehyuc/opt/anaconda3/lib/python3.8/site-packages (from matplotlib>=2.2->seaborn->smote_variants) (8.3.1)\n",
      "Requirement already satisfied: pyparsing!=2.0.4,!=2.1.2,!=2.1.6,>=2.0.3 in ./chiehyuc/opt/anaconda3/lib/python3.8/site-packages (from matplotlib>=2.2->seaborn->smote_variants) (2.4.7)\n",
      "Requirement already satisfied: google-auth<3,>=1.6.3 in ./chiehyuc/opt/anaconda3/lib/python3.8/site-packages (from tensorboard<2.14,>=2.13->tensorflow->smote_variants) (2.38.0)\n",
      "Requirement already satisfied: google-auth-oauthlib<1.1,>=0.5 in ./chiehyuc/opt/anaconda3/lib/python3.8/site-packages (from tensorboard<2.14,>=2.13->tensorflow->smote_variants) (1.0.0)\n",
      "Requirement already satisfied: markdown>=2.6.8 in ./chiehyuc/opt/anaconda3/lib/python3.8/site-packages (from tensorboard<2.14,>=2.13->tensorflow->smote_variants) (3.7)\n",
      "Requirement already satisfied: requests<3,>=2.21.0 in ./chiehyuc/opt/anaconda3/lib/python3.8/site-packages (from tensorboard<2.14,>=2.13->tensorflow->smote_variants) (2.25.1)\n",
      "Requirement already satisfied: tensorboard-data-server<0.8.0,>=0.7.0 in ./chiehyuc/opt/anaconda3/lib/python3.8/site-packages (from tensorboard<2.14,>=2.13->tensorflow->smote_variants) (0.7.2)\n",
      "Requirement already satisfied: werkzeug>=1.0.1 in ./chiehyuc/opt/anaconda3/lib/python3.8/site-packages (from tensorboard<2.14,>=2.13->tensorflow->smote_variants) (1.0.1)\n",
      "Requirement already satisfied: cachetools<6.0,>=2.0.0 in ./chiehyuc/opt/anaconda3/lib/python3.8/site-packages (from google-auth<3,>=1.6.3->tensorboard<2.14,>=2.13->tensorflow->smote_variants) (5.5.2)\n",
      "Requirement already satisfied: pyasn1-modules>=0.2.1 in ./chiehyuc/opt/anaconda3/lib/python3.8/site-packages (from google-auth<3,>=1.6.3->tensorboard<2.14,>=2.13->tensorflow->smote_variants) (0.4.2)\n",
      "Requirement already satisfied: rsa<5,>=3.1.4 in ./chiehyuc/opt/anaconda3/lib/python3.8/site-packages (from google-auth<3,>=1.6.3->tensorboard<2.14,>=2.13->tensorflow->smote_variants) (4.9)\n",
      "Requirement already satisfied: requests-oauthlib>=0.7.0 in ./chiehyuc/opt/anaconda3/lib/python3.8/site-packages (from google-auth-oauthlib<1.1,>=0.5->tensorboard<2.14,>=2.13->tensorflow->smote_variants) (2.0.0)\n"
     ]
    },
    {
     "name": "stdout",
     "output_type": "stream",
     "text": [
      "Requirement already satisfied: importlib-metadata>=4.4 in ./chiehyuc/opt/anaconda3/lib/python3.8/site-packages (from markdown>=2.6.8->tensorboard<2.14,>=2.13->tensorflow->smote_variants) (8.5.0)\n",
      "Requirement already satisfied: chardet<5,>=3.0.2 in ./chiehyuc/opt/anaconda3/lib/python3.8/site-packages (from requests<3,>=2.21.0->tensorboard<2.14,>=2.13->tensorflow->smote_variants) (4.0.0)\n",
      "Requirement already satisfied: idna<3,>=2.5 in ./chiehyuc/opt/anaconda3/lib/python3.8/site-packages (from requests<3,>=2.21.0->tensorboard<2.14,>=2.13->tensorflow->smote_variants) (2.10)\n",
      "Requirement already satisfied: urllib3<1.27,>=1.21.1 in ./chiehyuc/opt/anaconda3/lib/python3.8/site-packages (from requests<3,>=2.21.0->tensorboard<2.14,>=2.13->tensorflow->smote_variants) (1.26.6)\n",
      "Requirement already satisfied: certifi>=2017.4.17 in ./chiehyuc/opt/anaconda3/lib/python3.8/site-packages (from requests<3,>=2.21.0->tensorboard<2.14,>=2.13->tensorflow->smote_variants) (2024.2.2)\n",
      "Requirement already satisfied: zipp>=3.20 in ./chiehyuc/opt/anaconda3/lib/python3.8/site-packages (from importlib-metadata>=4.4->markdown>=2.6.8->tensorboard<2.14,>=2.13->tensorflow->smote_variants) (3.20.2)\n",
      "Requirement already satisfied: pyasn1<0.7.0,>=0.6.1 in ./chiehyuc/opt/anaconda3/lib/python3.8/site-packages (from pyasn1-modules>=0.2.1->google-auth<3,>=1.6.3->tensorboard<2.14,>=2.13->tensorflow->smote_variants) (0.6.1)\n",
      "Requirement already satisfied: oauthlib>=3.0.0 in ./chiehyuc/opt/anaconda3/lib/python3.8/site-packages (from requests-oauthlib>=0.7.0->google-auth-oauthlib<1.1,>=0.5->tensorboard<2.14,>=2.13->tensorflow->smote_variants) (3.2.2)\n",
      "Downloading smote_variants-1.0.1-py3-none-any.whl (417 kB)\n",
      "\u001b[2K   \u001b[90m━━━━━━━━━━━━━━━━━━━━━━━━━━━━━━━━━━━━━━━━\u001b[0m \u001b[32m417.8/417.8 kB\u001b[0m \u001b[31m2.9 MB/s\u001b[0m eta \u001b[36m0:00:00\u001b[0m00:01\u001b[0m00:01\u001b[0m\n",
      "\u001b[?25hDownloading metric_learn-0.7.0-py2.py3-none-any.whl (67 kB)\n",
      "\u001b[2K   \u001b[90m━━━━━━━━━━━━━━━━━━━━━━━━━━━━━━━━━━━━━━━━\u001b[0m \u001b[32m67.8/67.8 kB\u001b[0m \u001b[31m1.9 MB/s\u001b[0m eta \u001b[36m0:00:00\u001b[0m\n",
      "\u001b[?25hDownloading mkl-2023.2.2-py2.py3-none-macosx_10_15_x86_64.macosx_11_0_x86_64.whl (187.6 MB)\n",
      "\u001b[2K   \u001b[90m━━━━━━━━━━━━━━━━━━━━━━━━━━━━━━━━━━━━━━━━\u001b[0m \u001b[32m187.6/187.6 MB\u001b[0m \u001b[31m2.0 MB/s\u001b[0m eta \u001b[36m0:00:00\u001b[0m00:01\u001b[0m00:02\u001b[0m\n",
      "\u001b[?25hDownloading intel_openmp-2023.2.0-py2.py3-none-macosx_10_15_x86_64.macosx_11_0_x86_64.whl (758 kB)\n",
      "\u001b[2K   \u001b[90m━━━━━━━━━━━━━━━━━━━━━━━━━━━━━━━━━━━━━━━━\u001b[0m \u001b[32m758.3/758.3 kB\u001b[0m \u001b[31m3.1 MB/s\u001b[0m eta \u001b[36m0:00:00\u001b[0m00:01\u001b[0m00:01\u001b[0m\n",
      "\u001b[?25hDownloading tbb-2021.10.0-py2.py3-none-macosx_10_15_x86_64.macosx_11_0_x86_64.whl (640 kB)\n",
      "\u001b[2K   \u001b[90m━━━━━━━━━━━━━━━━━━━━━━━━━━━━━━━━━━━━━━━━\u001b[0m \u001b[32m640.9/640.9 kB\u001b[0m \u001b[31m1.7 MB/s\u001b[0m eta \u001b[36m0:00:00\u001b[0m00:01\u001b[0m00:01\u001b[0m\n",
      "\u001b[?25hDownloading numpy-1.22.4-cp38-cp38-macosx_10_15_x86_64.whl (17.6 MB)\n",
      "\u001b[2K   \u001b[90m━━━━━━━━━━━━━━━━━━━━━━━━━━━━━━━━━━━━━━━━\u001b[0m \u001b[32m17.6/17.6 MB\u001b[0m \u001b[31m3.2 MB/s\u001b[0m eta \u001b[36m0:00:00\u001b[0m00:01\u001b[0m00:01\u001b[0m\n",
      "\u001b[?25hBuilding wheels for collected packages: minisom, statistics\n",
      "  Building wheel for minisom (setup.py) ... \u001b[?25ldone\n",
      "\u001b[?25h  Created wheel for minisom: filename=MiniSom-2.3.5-py3-none-any.whl size=12035 sha256=0b69623f38eeb89c47a13f56ca68201e867c9b589beb1d657d7d016053daf53c\n",
      "  Stored in directory: /Users/chiehyuc/Library/Caches/pip/wheels/d3/4a/ea/9f1e6a02990635bb3212917006dabaebedae867da5044f3b7c\n",
      "  Building wheel for statistics (setup.py) ... \u001b[?25ldone\n",
      "\u001b[?25h  Created wheel for statistics: filename=statistics-1.0.3.5-py3-none-any.whl size=7454 sha256=7814a8d780ea9345844b8a826ffd40d0922a6fd3b4a0952d2172e0ffeec18d97\n",
      "  Stored in directory: /Users/chiehyuc/Library/Caches/pip/wheels/36/4b/c7/6af97584669b756c0d60c5ff05d5fb1f533a4e4d96e5ee92b9\n",
      "Successfully built minisom statistics\n",
      "\u001b[33mDEPRECATION: pyodbc 4.0.0-unsupported has a non-standard version number. pip 24.1 will enforce this behaviour change. A possible replacement is to upgrade to a newer version of pyodbc or contact the author to suggest that they release a version with a conforming version number. Discussion can be found at https://github.com/pypa/pip/issues/12063\u001b[0m\u001b[33m\n",
      "\u001b[0mInstalling collected packages: tbb, minisom, intel-openmp, statistics, numpy, mkl, metric_learn, smote_variants\n",
      "  Attempting uninstall: numpy\n",
      "    Found existing installation: numpy 1.21.0\n",
      "    Uninstalling numpy-1.21.0:\n",
      "      Successfully uninstalled numpy-1.21.0\n",
      "Successfully installed intel-openmp-2023.2.0 metric_learn-0.7.0 minisom-2.3.5 mkl-2023.2.2 numpy-1.22.4 smote_variants-1.0.1 statistics-1.0.3.5 tbb-2021.10.0\n"
     ]
    }
   ],
   "source": [
    "!pip3 install smote_variants"
   ]
  },
  {
   "cell_type": "code",
   "execution_count": 15,
   "id": "b9bfff48",
   "metadata": {
    "scrolled": true
   },
   "outputs": [
    {
     "name": "stdout",
     "output_type": "stream",
     "text": [
      "Requirement already satisfied: scikit-learn in ./chiehyuc/opt/anaconda3/lib/python3.8/site-packages (0.24.2)\n",
      "Collecting scikit-learn\n",
      "  Downloading scikit_learn-1.3.2-cp38-cp38-macosx_10_9_x86_64.whl.metadata (11 kB)\n",
      "Requirement already satisfied: numpy<2.0,>=1.17.3 in ./chiehyuc/opt/anaconda3/lib/python3.8/site-packages (from scikit-learn) (1.22.4)\n",
      "Requirement already satisfied: scipy>=1.5.0 in ./chiehyuc/opt/anaconda3/lib/python3.8/site-packages (from scikit-learn) (1.6.2)\n",
      "Collecting joblib>=1.1.1 (from scikit-learn)\n",
      "  Downloading joblib-1.4.2-py3-none-any.whl.metadata (5.4 kB)\n",
      "Requirement already satisfied: threadpoolctl>=2.0.0 in ./chiehyuc/opt/anaconda3/lib/python3.8/site-packages (from scikit-learn) (2.2.0)\n",
      "Downloading scikit_learn-1.3.2-cp38-cp38-macosx_10_9_x86_64.whl (10.1 MB)\n",
      "\u001b[2K   \u001b[90m━━━━━━━━━━━━━━━━━━━━━━━━━━━━━━━━━━━━━━━━\u001b[0m \u001b[32m10.1/10.1 MB\u001b[0m \u001b[31m4.1 MB/s\u001b[0m eta \u001b[36m0:00:00\u001b[0m00:01\u001b[0m0:01\u001b[0m\n",
      "\u001b[?25hDownloading joblib-1.4.2-py3-none-any.whl (301 kB)\n",
      "\u001b[2K   \u001b[90m━━━━━━━━━━━━━━━━━━━━━━━━━━━━━━━━━━━━━━━━\u001b[0m \u001b[32m301.8/301.8 kB\u001b[0m \u001b[31m3.0 MB/s\u001b[0m eta \u001b[36m0:00:00\u001b[0m00:01\u001b[0m00:01\u001b[0m\n",
      "\u001b[?25h\u001b[33mDEPRECATION: pyodbc 4.0.0-unsupported has a non-standard version number. pip 24.1 will enforce this behaviour change. A possible replacement is to upgrade to a newer version of pyodbc or contact the author to suggest that they release a version with a conforming version number. Discussion can be found at https://github.com/pypa/pip/issues/12063\u001b[0m\u001b[33m\n",
      "\u001b[0mInstalling collected packages: joblib, scikit-learn\n",
      "  Attempting uninstall: joblib\n",
      "    Found existing installation: joblib 1.0.1\n",
      "    Uninstalling joblib-1.0.1:\n",
      "      Successfully uninstalled joblib-1.0.1\n",
      "  Attempting uninstall: scikit-learn\n",
      "    Found existing installation: scikit-learn 0.24.2\n",
      "    Uninstalling scikit-learn-0.24.2:\n",
      "      Successfully uninstalled scikit-learn-0.24.2\n",
      "Successfully installed joblib-1.4.2 scikit-learn-1.3.2\n",
      "Note: you may need to restart the kernel to use updated packages.\n"
     ]
    }
   ],
   "source": [
    "pip install --upgrade scikit-learn"
   ]
  },
  {
   "cell_type": "code",
   "execution_count": 16,
   "id": "9b0a7798",
   "metadata": {
    "scrolled": true
   },
   "outputs": [
    {
     "name": "stdout",
     "output_type": "stream",
     "text": [
      "Collecting imbalanced_databases\n",
      "  Using cached imbalanced_databases-0.1.1-py3-none-any.whl.metadata (724 bytes)\n",
      "Downloading imbalanced_databases-0.1.1-py3-none-any.whl (4.3 MB)\n",
      "\u001b[2K   \u001b[90m━━━━━━━━━━━━━━━━━━━━━━━━━━━━━━━━━━━━━━━━\u001b[0m \u001b[32m4.3/4.3 MB\u001b[0m \u001b[31m3.6 MB/s\u001b[0m eta \u001b[36m0:00:00\u001b[0m00:01\u001b[0m00:01\u001b[0m\n",
      "\u001b[?25hInstalling collected packages: imbalanced_databases\n",
      "Successfully installed imbalanced_databases-0.1.1\n",
      "Note: you may need to restart the kernel to use updated packages.\n"
     ]
    }
   ],
   "source": [
    "pip install --no-deps imbalanced_databases"
   ]
  },
  {
   "cell_type": "code",
   "execution_count": 18,
   "id": "c6bf257d",
   "metadata": {},
   "outputs": [
    {
     "name": "stderr",
     "output_type": "stream",
     "text": [
      "2025-04-02 13:57:14,834:INFO:distance_SMOTE: Running sampling via ('distance_SMOTE', \"{'proportion': 1.0, 'n_neighbors': 5, 'nn_params': {}, 'n_jobs': 1, 'ss_params': {'n_dim': 2, 'simplex_sampling': 'random', 'within_simplex_sampling': 'random', 'gaussian_component': {}}, 'random_state': None, 'class_name': 'distance_SMOTE'}\")\n",
      "2025-04-02 13:57:14,836:INFO:NearestNeighborsWithMetricTensor: NN fitting with metric minkowski\n",
      "2025-04-02 13:57:14,837:INFO:NearestNeighborsWithMetricTensor: kneighbors query minkowski\n",
      "2025-04-02 13:57:14,843:INFO:distance_SMOTE: simplex sampling with n_dim 2\n"
     ]
    }
   ],
   "source": [
    "import smote_variants as sv\n",
    "import imbalanced_databases as imbd\n",
    "\n",
    "# dataset= imbd.load_iris0()\n",
    "\n",
    "oversampler= sv.distance_SMOTE()\n",
    "\n",
    "# X_samp and y_samp contain the oversampled dataset\n",
    "X_samp, y_samp= oversampler.sample(female_X, female_y)"
   ]
  },
  {
   "cell_type": "code",
   "execution_count": 19,
   "id": "ac9d5089",
   "metadata": {},
   "outputs": [
    {
     "data": {
      "text/plain": [
       "['tPA(0/1)',\n",
       " 'EVT(0/1)',\n",
       " 'DM(0/1)',\n",
       " 'smoking(Y/N/Q)',\n",
       " 'LDL ',\n",
       " 'cholesterol',\n",
       " 'TG',\n",
       " 'SGPT']"
      ]
     },
     "execution_count": 19,
     "metadata": {},
     "output_type": "execute_result"
    }
   ],
   "source": [
    "from sklearn.feature_selection import SequentialFeatureSelector\n",
    "from sklearn.neighbors import KNeighborsClassifier\n",
    "from sklearn.linear_model import LinearRegression\n",
    "\n",
    "from sklearn import svm\n",
    "# knn = KNeighborsClassifier(n_neighbors=3)\n",
    "# clf = svm.SVC(kernel='linear')\n",
    "lr = LinearRegression()\n",
    "\n",
    "sfs = SequentialFeatureSelector(lr, direction='backward')\n",
    "\n",
    "sfs.fit(X_samp, y_samp)\n",
    "\n",
    "m_chosen_columns = sfs.get_support()\n",
    "\n",
    "\n",
    "female_features = []\n",
    "for i in range(1, len(female_df_columns)):\n",
    "    if m_chosen_columns[i]:\n",
    "        female_features.append(female_df_columns[i])\n",
    "        \n",
    "female_features"
   ]
  },
  {
   "cell_type": "code",
   "execution_count": 10,
   "id": "59e3e6da",
   "metadata": {},
   "outputs": [],
   "source": [
    "male_df_columns = (male_df.columns[1:])\n",
    "male_X = male_df[male_df_columns].values\n",
    "male_y = male_df['Second_Stroke'].values"
   ]
  },
  {
   "cell_type": "code",
   "execution_count": 11,
   "id": "f3bc1e6d",
   "metadata": {
    "scrolled": true
   },
   "outputs": [
    {
     "data": {
      "text/plain": [
       "(568, 8)"
      ]
     },
     "execution_count": 11,
     "metadata": {},
     "output_type": "execute_result"
    }
   ],
   "source": [
    "from sklearn.linear_model import LogisticRegression\n",
    "clf = LogisticRegression()\n",
    "from sklearn.linear_model import LinearRegression\n",
    "lr = LinearRegression()\n",
    "# sfs = SequentialFeatureSelector(clf, n_features_to_select = 4)\n",
    "\n",
    "# sfs.predict(female_X)\n",
    "# sfs.predict_proba(female_X)\n",
    "# sfs.score(female_X, female_y)\n",
    "\n",
    "# knn = KNeighborsClassifier(n_neighbors=2)\n",
    "\n",
    "sfs = SequentialFeatureSelector(lr)\n",
    "sfs.fit(female_X, female_y)\n",
    "f_chosen_columns = sfs.get_support()\n",
    "sfs.transform(female_X).shape"
   ]
  },
  {
   "cell_type": "code",
   "execution_count": 12,
   "id": "bfe60550",
   "metadata": {},
   "outputs": [
    {
     "data": {
      "text/plain": [
       "array([False,  True, False,  True, False, False, False, False, False,\n",
       "       False,  True,  True,  True,  True,  True, False,  True])"
      ]
     },
     "execution_count": 12,
     "metadata": {},
     "output_type": "execute_result"
    }
   ],
   "source": [
    "f_chosen_columns"
   ]
  },
  {
   "cell_type": "code",
   "execution_count": 13,
   "id": "8c80c530",
   "metadata": {},
   "outputs": [
    {
     "data": {
      "text/plain": [
       "(568, 8)"
      ]
     },
     "execution_count": 13,
     "metadata": {},
     "output_type": "execute_result"
    }
   ],
   "source": [
    "from sklearn.feature_selection import SequentialFeatureSelector\n",
    "from sklearn.neighbors import KNeighborsClassifier\n",
    "\n",
    "knn = KNeighborsClassifier(n_neighbors=3)\n",
    "\n",
    "sfs = SequentialFeatureSelector(knn, direction='backward')\n",
    "\n",
    "sfs.fit(female_X, female_y)\n",
    "\n",
    "f_chosen_columns = sfs.get_support()\n",
    "\n",
    "sfs.transform(female_X).shape"
   ]
  },
  {
   "cell_type": "code",
   "execution_count": 14,
   "id": "5ec5b21d",
   "metadata": {},
   "outputs": [
    {
     "data": {
      "text/plain": [
       "['age', 'HLOS', 'smoking(Y/N/Q)', 'LDL ', 'cholesterol', 'Cre', 'HbA1c']"
      ]
     },
     "execution_count": 14,
     "metadata": {},
     "output_type": "execute_result"
    }
   ],
   "source": [
    "female_features = []\n",
    "\n",
    "for i in range(1, len(female_df.columns)-1):\n",
    "    if f_chosen_columns[i]:\n",
    "        female_features.append(female_df.columns[i])\n",
    "        \n",
    "female_features"
   ]
  },
  {
   "cell_type": "code",
   "execution_count": 15,
   "id": "17574258",
   "metadata": {},
   "outputs": [
    {
     "name": "stdout",
     "output_type": "stream",
     "text": [
      "17\n",
      "[ True False  True False False False  True False False False  True  True\n",
      "  True False  True False  True]\n"
     ]
    },
    {
     "data": {
      "text/plain": [
       "['NIHSS', 'DM(0/1)', 'LDL ', 'cholesterol', 'TG', 'SGPT', 'MRS']"
      ]
     },
     "execution_count": 15,
     "metadata": {},
     "output_type": "execute_result"
    }
   ],
   "source": [
    "from sklearn.feature_selection import SequentialFeatureSelector\n",
    "from sklearn.neighbors import KNeighborsClassifier\n",
    "from sklearn.linear_model import LinearRegression\n",
    "\n",
    "from sklearn import svm\n",
    "# knn = KNeighborsClassifier(n_neighbors=3)\n",
    "# clf = svm.SVC(kernel='linear')\n",
    "lr = LinearRegression()\n",
    "\n",
    "sfs = SequentialFeatureSelector(lr, direction='backward')\n",
    "\n",
    "sfs.fit(male_X, male_y)\n",
    "\n",
    "m_chosen_columns = sfs.get_support()\n",
    "\n",
    "\n",
    "male_features = []\n",
    "print(len(male_df_columns))\n",
    "print(m_chosen_columns)\n",
    "for i in range(1, len(male_df_columns)):\n",
    "    if m_chosen_columns[i]:\n",
    "        male_features.append(male_df_columns[i])\n",
    "        \n",
    "male_features"
   ]
  }
 ],
 "metadata": {
  "kernelspec": {
   "display_name": "Python 3",
   "language": "python",
   "name": "python3"
  },
  "language_info": {
   "codemirror_mode": {
    "name": "ipython",
    "version": 3
   },
   "file_extension": ".py",
   "mimetype": "text/x-python",
   "name": "python",
   "nbconvert_exporter": "python",
   "pygments_lexer": "ipython3",
   "version": "3.8.10"
  }
 },
 "nbformat": 4,
 "nbformat_minor": 5
}
