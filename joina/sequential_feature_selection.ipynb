{
 "cells": [
  {
   "cell_type": "code",
   "execution_count": 1,
   "id": "22dd38dc",
   "metadata": {},
   "outputs": [],
   "source": [
    "import os\n",
    "import numpy as np\n",
    "import pandas as pd\n",
    "import csv"
   ]
  },
  {
   "cell_type": "code",
   "execution_count": 2,
   "id": "d7d243c1",
   "metadata": {},
   "outputs": [],
   "source": [
    "from sklearn.feature_selection import SequentialFeatureSelector\n",
    "from sklearn.neighbors import KNeighborsClassifier"
   ]
  },
  {
   "cell_type": "code",
   "execution_count": 3,
   "id": "3068ff49",
   "metadata": {},
   "outputs": [
    {
     "data": {
      "text/plain": [
       "'/Users/chiehyuc/Desktop/Risk_Factor_Analysis_of_Obstructive-Sleep_Apnea/joina'"
      ]
     },
     "execution_count": 3,
     "metadata": {},
     "output_type": "execute_result"
    }
   ],
   "source": [
    "os.getcwd()"
   ]
  },
  {
   "cell_type": "code",
   "execution_count": 4,
   "id": "4cd7b9e2",
   "metadata": {},
   "outputs": [],
   "source": [
    "os.chdir('/Users')"
   ]
  },
  {
   "cell_type": "code",
   "execution_count": 5,
   "id": "ff07e978",
   "metadata": {},
   "outputs": [],
   "source": [
    "path = ('/Users/chiehyuc/Desktop/stroke_data/')\n",
    "xlsx = pd.ExcelFile(path+'Stroke-cleared-with_subgroup.xlsx')\n",
    "male_df = pd.read_excel(xlsx, 'Male')\n",
    "female_df = pd.read_excel(xlsx, 'Female')"
   ]
  },
  {
   "cell_type": "code",
   "execution_count": 6,
   "id": "221c2ce6",
   "metadata": {},
   "outputs": [],
   "source": [
    "from pathlib import Path\n",
    "\n",
    "filepath = Path('/Users/chiehyuc/Desktop/stroke_data/female_stroke_data.csv')  \n",
    "filepath.parent.mkdir(parents=True, exist_ok=True)  \n",
    "female_df.to_csv(filepath, index=False)\n",
    "\n",
    "filepath = Path('/Users/chiehyuc/Desktop/stroke_data/male_stroke_data.csv')  \n",
    "filepath.parent.mkdir(parents=True, exist_ok=True)  \n",
    "male_df.to_csv(filepath, index=False)"
   ]
  },
  {
   "cell_type": "code",
   "execution_count": 7,
   "id": "c6f13ee9",
   "metadata": {},
   "outputs": [],
   "source": [
    "csv_path = ('/Users/chiehyuc/Desktop/stroke_data/')\n",
    "\n",
    "male_df = pd.read_csv(csv_path + 'male_stroke_data.csv')\n",
    "female_df = pd.read_csv(csv_path + 'female_stroke_data.csv')"
   ]
  },
  {
   "cell_type": "code",
   "execution_count": null,
   "id": "4658af2a",
   "metadata": {},
   "outputs": [],
   "source": [
    "female_df = female_df.drop(columns=[\"sex\"])\n",
    "male_df = male_df.drop(columns=[\"sex\"])"
   ]
  },
  {
   "cell_type": "code",
   "execution_count": 8,
   "id": "8ceba6f6",
   "metadata": {},
   "outputs": [],
   "source": [
    "female_X = list(female_df)[1:]\n",
    "female_y = list(female_df)[0]\n",
    "\n",
    "male_X = list(male_df)[1:]\n",
    "male_y = list(male_df)[0]"
   ]
  },
  {
   "cell_type": "code",
   "execution_count": 9,
   "id": "7e2999bd",
   "metadata": {},
   "outputs": [],
   "source": [
    "female_df_columns = (female_df.columns[1:])\n",
    "female_X = female_df[female_df_columns].values\n",
    "female_y = female_df['Second_Stroke'].values"
   ]
  },
  {
   "cell_type": "code",
   "execution_count": 10,
   "id": "59e3e6da",
   "metadata": {},
   "outputs": [],
   "source": [
    "male_df_columns = (male_df.columns[1:])\n",
    "male_X = male_df[male_df_columns].values\n",
    "male_y = male_df['Second_Stroke'].values"
   ]
  },
  {
   "cell_type": "code",
   "execution_count": 11,
   "id": "f3bc1e6d",
   "metadata": {
    "scrolled": true
   },
   "outputs": [
    {
     "data": {
      "text/plain": [
       "(568, 8)"
      ]
     },
     "execution_count": 11,
     "metadata": {},
     "output_type": "execute_result"
    }
   ],
   "source": [
    "from sklearn.linear_model import LogisticRegression\n",
    "clf = LogisticRegression()\n",
    "from sklearn.linear_model import LinearRegression\n",
    "lr = LinearRegression()\n",
    "# sfs = SequentialFeatureSelector(clf, n_features_to_select = 4)\n",
    "\n",
    "# sfs.predict(female_X)\n",
    "# sfs.predict_proba(female_X)\n",
    "# sfs.score(female_X, female_y)\n",
    "\n",
    "# knn = KNeighborsClassifier(n_neighbors=2)\n",
    "\n",
    "sfs = SequentialFeatureSelector(lr)\n",
    "sfs.fit(female_X, female_y)\n",
    "f_chosen_columns = sfs.get_support()\n",
    "sfs.transform(female_X).shape"
   ]
  },
  {
   "cell_type": "code",
   "execution_count": 12,
   "id": "bfe60550",
   "metadata": {},
   "outputs": [
    {
     "data": {
      "text/plain": [
       "array([False,  True, False,  True, False, False, False, False, False,\n",
       "       False,  True,  True,  True,  True,  True, False,  True])"
      ]
     },
     "execution_count": 12,
     "metadata": {},
     "output_type": "execute_result"
    }
   ],
   "source": [
    "f_chosen_columns"
   ]
  },
  {
   "cell_type": "code",
   "execution_count": 13,
   "id": "8c80c530",
   "metadata": {},
   "outputs": [
    {
     "data": {
      "text/plain": [
       "(568, 8)"
      ]
     },
     "execution_count": 13,
     "metadata": {},
     "output_type": "execute_result"
    }
   ],
   "source": [
    "from sklearn.feature_selection import SequentialFeatureSelector\n",
    "from sklearn.neighbors import KNeighborsClassifier\n",
    "\n",
    "knn = KNeighborsClassifier(n_neighbors=3)\n",
    "\n",
    "sfs = SequentialFeatureSelector(knn, direction='backward')\n",
    "\n",
    "sfs.fit(female_X, female_y)\n",
    "\n",
    "f_chosen_columns = sfs.get_support()\n",
    "\n",
    "sfs.transform(female_X).shape"
   ]
  },
  {
   "cell_type": "code",
   "execution_count": 14,
   "id": "5ec5b21d",
   "metadata": {},
   "outputs": [
    {
     "data": {
      "text/plain": [
       "['age', 'HLOS', 'smoking(Y/N/Q)', 'LDL ', 'cholesterol', 'Cre', 'HbA1c']"
      ]
     },
     "execution_count": 14,
     "metadata": {},
     "output_type": "execute_result"
    }
   ],
   "source": [
    "female_features = []\n",
    "\n",
    "for i in range(1, len(female_df.columns)-1):\n",
    "    if f_chosen_columns[i]:\n",
    "        female_features.append(female_df.columns[i])\n",
    "        \n",
    "female_features"
   ]
  },
  {
   "cell_type": "code",
   "execution_count": 15,
   "id": "17574258",
   "metadata": {},
   "outputs": [
    {
     "name": "stdout",
     "output_type": "stream",
     "text": [
      "17\n",
      "[ True False  True False False False  True False False False  True  True\n",
      "  True False  True False  True]\n"
     ]
    },
    {
     "data": {
      "text/plain": [
       "['NIHSS', 'DM(0/1)', 'LDL ', 'cholesterol', 'TG', 'SGPT', 'MRS']"
      ]
     },
     "execution_count": 15,
     "metadata": {},
     "output_type": "execute_result"
    }
   ],
   "source": [
    "from sklearn.feature_selection import SequentialFeatureSelector\n",
    "from sklearn.neighbors import KNeighborsClassifier\n",
    "from sklearn.linear_model import LinearRegression\n",
    "\n",
    "from sklearn import svm\n",
    "# knn = KNeighborsClassifier(n_neighbors=3)\n",
    "# clf = svm.SVC(kernel='linear')\n",
    "lr = LinearRegression()\n",
    "\n",
    "sfs = SequentialFeatureSelector(lr, direction='backward')\n",
    "\n",
    "sfs.fit(male_X, male_y)\n",
    "\n",
    "m_chosen_columns = sfs.get_support()\n",
    "\n",
    "\n",
    "male_features = []\n",
    "print(len(male_df_columns))\n",
    "print(m_chosen_columns)\n",
    "for i in range(1, len(male_df_columns)):\n",
    "    if m_chosen_columns[i]:\n",
    "        male_features.append(male_df_columns[i])\n",
    "        \n",
    "male_features"
   ]
  }
 ],
 "metadata": {
  "kernelspec": {
   "display_name": "Python 3",
   "language": "python",
   "name": "python3"
  },
  "language_info": {
   "codemirror_mode": {
    "name": "ipython",
    "version": 3
   },
   "file_extension": ".py",
   "mimetype": "text/x-python",
   "name": "python",
   "nbconvert_exporter": "python",
   "pygments_lexer": "ipython3",
   "version": "3.8.10"
  }
 },
 "nbformat": 4,
 "nbformat_minor": 5
}
