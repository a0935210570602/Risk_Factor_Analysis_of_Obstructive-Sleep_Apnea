{
 "cells": [
  {
   "cell_type": "code",
   "execution_count": 1,
   "id": "d18d0c4e",
   "metadata": {},
   "outputs": [],
   "source": [
    "import os\n",
    "import numpy as np\n",
    "import pandas as pd\n",
    "import csv\n",
    "import matplotlib.pyplot as plt\n",
    "import seaborn as sns\n",
    "import sklearn\n",
    "from sklearn.preprocessing import LabelEncoder"
   ]
  },
  {
   "cell_type": "code",
   "execution_count": 2,
   "id": "9e385210",
   "metadata": {},
   "outputs": [],
   "source": [
    "import matplotlib.pyplot as plt\n",
    "import plotly\n",
    "from plotly.subplots import make_subplots\n",
    "import plotly.express as px\n",
    "import plotly.graph_objects as go\n",
    "import plotly.figure_factory as ff"
   ]
  },
  {
   "cell_type": "code",
   "execution_count": 3,
   "id": "75610094",
   "metadata": {},
   "outputs": [
    {
     "data": {
      "text/plain": [
       "'/Users/chiehyuc/Desktop/Risk_Factor_Analysis_of_Obstructive-Sleep_Apnea_notthatold/Joina'"
      ]
     },
     "execution_count": 3,
     "metadata": {},
     "output_type": "execute_result"
    }
   ],
   "source": [
    "os.getcwd()"
   ]
  },
  {
   "cell_type": "code",
   "execution_count": 4,
   "id": "0b8f50d3",
   "metadata": {},
   "outputs": [],
   "source": [
    "os.chdir('/Users')"
   ]
  },
  {
   "cell_type": "code",
   "execution_count": 7,
   "id": "41a14a97",
   "metadata": {},
   "outputs": [],
   "source": [
    "path = ('/Users/chiehyuc/Desktop/stroke_data/')\n",
    "xlsx = pd.ExcelFile(path+'Stroke-cleared-with_subgroup.xlsx')\n",
    "male_df = pd.read_excel(xlsx, 'Male')\n",
    "female_df = pd.read_excel(xlsx, 'Female')"
   ]
  },
  {
   "cell_type": "code",
   "execution_count": 9,
   "id": "8ddea3d2",
   "metadata": {},
   "outputs": [],
   "source": [
    "from pathlib import Path\n",
    "\n",
    "filepath = Path('/Users/chiehyuc/Desktop/stroke_data/female_stroke_data.csv')  \n",
    "filepath.parent.mkdir(parents=True, exist_ok=True)  \n",
    "female_df.to_csv(filepath)\n",
    "\n",
    "filepath = Path('/Users/chiehyuc/Desktop/stroke_data/male_stroke_data.csv')  \n",
    "filepath.parent.mkdir(parents=True, exist_ok=True)  \n",
    "male_df.to_csv(filepath)"
   ]
  },
  {
   "cell_type": "code",
   "execution_count": 10,
   "id": "c75849f7",
   "metadata": {},
   "outputs": [
    {
     "ename": "FileNotFoundError",
     "evalue": "[Errno 2] No such file or directory: 'male_stroke_data.csv'",
     "output_type": "error",
     "traceback": [
      "\u001b[0;31m---------------------------------------------------------------------------\u001b[0m",
      "\u001b[0;31mFileNotFoundError\u001b[0m                         Traceback (most recent call last)",
      "\u001b[0;32m<ipython-input-10-0df8c204d705>\u001b[0m in \u001b[0;36m<module>\u001b[0;34m\u001b[0m\n\u001b[1;32m      1\u001b[0m \u001b[0;31m# male_df = pd.read_excel(xlsx, 'Male')\u001b[0m\u001b[0;34m\u001b[0m\u001b[0;34m\u001b[0m\u001b[0;34m\u001b[0m\u001b[0m\n\u001b[1;32m      2\u001b[0m \u001b[0;31m# female_df = pd.read_excel(xlsx, 'Female')\u001b[0m\u001b[0;34m\u001b[0m\u001b[0;34m\u001b[0m\u001b[0;34m\u001b[0m\u001b[0m\n\u001b[0;32m----> 3\u001b[0;31m \u001b[0mmale_df\u001b[0m \u001b[0;34m=\u001b[0m \u001b[0mpd\u001b[0m\u001b[0;34m.\u001b[0m\u001b[0mread_csv\u001b[0m\u001b[0;34m(\u001b[0m\u001b[0;34m'male_stroke_data.csv'\u001b[0m\u001b[0;34m)\u001b[0m\u001b[0;34m\u001b[0m\u001b[0;34m\u001b[0m\u001b[0m\n\u001b[0m\u001b[1;32m      4\u001b[0m \u001b[0mfemale_df\u001b[0m \u001b[0;34m=\u001b[0m \u001b[0mpd\u001b[0m\u001b[0;34m.\u001b[0m\u001b[0mread_csv\u001b[0m\u001b[0;34m(\u001b[0m\u001b[0;34m'female_stroke_data.csv'\u001b[0m\u001b[0;34m)\u001b[0m\u001b[0;34m\u001b[0m\u001b[0;34m\u001b[0m\u001b[0m\n",
      "\u001b[0;32m~/opt/anaconda3/lib/python3.8/site-packages/pandas/util/_decorators.py\u001b[0m in \u001b[0;36mwrapper\u001b[0;34m(*args, **kwargs)\u001b[0m\n\u001b[1;32m    309\u001b[0m                     \u001b[0mstacklevel\u001b[0m\u001b[0;34m=\u001b[0m\u001b[0mstacklevel\u001b[0m\u001b[0;34m,\u001b[0m\u001b[0;34m\u001b[0m\u001b[0;34m\u001b[0m\u001b[0m\n\u001b[1;32m    310\u001b[0m                 )\n\u001b[0;32m--> 311\u001b[0;31m             \u001b[0;32mreturn\u001b[0m \u001b[0mfunc\u001b[0m\u001b[0;34m(\u001b[0m\u001b[0;34m*\u001b[0m\u001b[0margs\u001b[0m\u001b[0;34m,\u001b[0m \u001b[0;34m**\u001b[0m\u001b[0mkwargs\u001b[0m\u001b[0;34m)\u001b[0m\u001b[0;34m\u001b[0m\u001b[0;34m\u001b[0m\u001b[0m\n\u001b[0m\u001b[1;32m    312\u001b[0m \u001b[0;34m\u001b[0m\u001b[0m\n\u001b[1;32m    313\u001b[0m         \u001b[0;32mreturn\u001b[0m \u001b[0mwrapper\u001b[0m\u001b[0;34m\u001b[0m\u001b[0;34m\u001b[0m\u001b[0m\n",
      "\u001b[0;32m~/opt/anaconda3/lib/python3.8/site-packages/pandas/io/parsers/readers.py\u001b[0m in \u001b[0;36mread_csv\u001b[0;34m(filepath_or_buffer, sep, delimiter, header, names, index_col, usecols, squeeze, prefix, mangle_dupe_cols, dtype, engine, converters, true_values, false_values, skipinitialspace, skiprows, skipfooter, nrows, na_values, keep_default_na, na_filter, verbose, skip_blank_lines, parse_dates, infer_datetime_format, keep_date_col, date_parser, dayfirst, cache_dates, iterator, chunksize, compression, thousands, decimal, lineterminator, quotechar, quoting, doublequote, escapechar, comment, encoding, encoding_errors, dialect, error_bad_lines, warn_bad_lines, on_bad_lines, delim_whitespace, low_memory, memory_map, float_precision, storage_options)\u001b[0m\n\u001b[1;32m    584\u001b[0m     \u001b[0mkwds\u001b[0m\u001b[0;34m.\u001b[0m\u001b[0mupdate\u001b[0m\u001b[0;34m(\u001b[0m\u001b[0mkwds_defaults\u001b[0m\u001b[0;34m)\u001b[0m\u001b[0;34m\u001b[0m\u001b[0;34m\u001b[0m\u001b[0m\n\u001b[1;32m    585\u001b[0m \u001b[0;34m\u001b[0m\u001b[0m\n\u001b[0;32m--> 586\u001b[0;31m     \u001b[0;32mreturn\u001b[0m \u001b[0m_read\u001b[0m\u001b[0;34m(\u001b[0m\u001b[0mfilepath_or_buffer\u001b[0m\u001b[0;34m,\u001b[0m \u001b[0mkwds\u001b[0m\u001b[0;34m)\u001b[0m\u001b[0;34m\u001b[0m\u001b[0;34m\u001b[0m\u001b[0m\n\u001b[0m\u001b[1;32m    587\u001b[0m \u001b[0;34m\u001b[0m\u001b[0m\n\u001b[1;32m    588\u001b[0m \u001b[0;34m\u001b[0m\u001b[0m\n",
      "\u001b[0;32m~/opt/anaconda3/lib/python3.8/site-packages/pandas/io/parsers/readers.py\u001b[0m in \u001b[0;36m_read\u001b[0;34m(filepath_or_buffer, kwds)\u001b[0m\n\u001b[1;32m    480\u001b[0m \u001b[0;34m\u001b[0m\u001b[0m\n\u001b[1;32m    481\u001b[0m     \u001b[0;31m# Create the parser.\u001b[0m\u001b[0;34m\u001b[0m\u001b[0;34m\u001b[0m\u001b[0;34m\u001b[0m\u001b[0m\n\u001b[0;32m--> 482\u001b[0;31m     \u001b[0mparser\u001b[0m \u001b[0;34m=\u001b[0m \u001b[0mTextFileReader\u001b[0m\u001b[0;34m(\u001b[0m\u001b[0mfilepath_or_buffer\u001b[0m\u001b[0;34m,\u001b[0m \u001b[0;34m**\u001b[0m\u001b[0mkwds\u001b[0m\u001b[0;34m)\u001b[0m\u001b[0;34m\u001b[0m\u001b[0;34m\u001b[0m\u001b[0m\n\u001b[0m\u001b[1;32m    483\u001b[0m \u001b[0;34m\u001b[0m\u001b[0m\n\u001b[1;32m    484\u001b[0m     \u001b[0;32mif\u001b[0m \u001b[0mchunksize\u001b[0m \u001b[0;32mor\u001b[0m \u001b[0miterator\u001b[0m\u001b[0;34m:\u001b[0m\u001b[0;34m\u001b[0m\u001b[0;34m\u001b[0m\u001b[0m\n",
      "\u001b[0;32m~/opt/anaconda3/lib/python3.8/site-packages/pandas/io/parsers/readers.py\u001b[0m in \u001b[0;36m__init__\u001b[0;34m(self, f, engine, **kwds)\u001b[0m\n\u001b[1;32m    809\u001b[0m             \u001b[0mself\u001b[0m\u001b[0;34m.\u001b[0m\u001b[0moptions\u001b[0m\u001b[0;34m[\u001b[0m\u001b[0;34m\"has_index_names\"\u001b[0m\u001b[0;34m]\u001b[0m \u001b[0;34m=\u001b[0m \u001b[0mkwds\u001b[0m\u001b[0;34m[\u001b[0m\u001b[0;34m\"has_index_names\"\u001b[0m\u001b[0;34m]\u001b[0m\u001b[0;34m\u001b[0m\u001b[0;34m\u001b[0m\u001b[0m\n\u001b[1;32m    810\u001b[0m \u001b[0;34m\u001b[0m\u001b[0m\n\u001b[0;32m--> 811\u001b[0;31m         \u001b[0mself\u001b[0m\u001b[0;34m.\u001b[0m\u001b[0m_engine\u001b[0m \u001b[0;34m=\u001b[0m \u001b[0mself\u001b[0m\u001b[0;34m.\u001b[0m\u001b[0m_make_engine\u001b[0m\u001b[0;34m(\u001b[0m\u001b[0mself\u001b[0m\u001b[0;34m.\u001b[0m\u001b[0mengine\u001b[0m\u001b[0;34m)\u001b[0m\u001b[0;34m\u001b[0m\u001b[0;34m\u001b[0m\u001b[0m\n\u001b[0m\u001b[1;32m    812\u001b[0m \u001b[0;34m\u001b[0m\u001b[0m\n\u001b[1;32m    813\u001b[0m     \u001b[0;32mdef\u001b[0m \u001b[0mclose\u001b[0m\u001b[0;34m(\u001b[0m\u001b[0mself\u001b[0m\u001b[0;34m)\u001b[0m\u001b[0;34m:\u001b[0m\u001b[0;34m\u001b[0m\u001b[0;34m\u001b[0m\u001b[0m\n",
      "\u001b[0;32m~/opt/anaconda3/lib/python3.8/site-packages/pandas/io/parsers/readers.py\u001b[0m in \u001b[0;36m_make_engine\u001b[0;34m(self, engine)\u001b[0m\n\u001b[1;32m   1038\u001b[0m             )\n\u001b[1;32m   1039\u001b[0m         \u001b[0;31m# error: Too many arguments for \"ParserBase\"\u001b[0m\u001b[0;34m\u001b[0m\u001b[0;34m\u001b[0m\u001b[0;34m\u001b[0m\u001b[0m\n\u001b[0;32m-> 1040\u001b[0;31m         \u001b[0;32mreturn\u001b[0m \u001b[0mmapping\u001b[0m\u001b[0;34m[\u001b[0m\u001b[0mengine\u001b[0m\u001b[0;34m]\u001b[0m\u001b[0;34m(\u001b[0m\u001b[0mself\u001b[0m\u001b[0;34m.\u001b[0m\u001b[0mf\u001b[0m\u001b[0;34m,\u001b[0m \u001b[0;34m**\u001b[0m\u001b[0mself\u001b[0m\u001b[0;34m.\u001b[0m\u001b[0moptions\u001b[0m\u001b[0;34m)\u001b[0m  \u001b[0;31m# type: ignore[call-arg]\u001b[0m\u001b[0;34m\u001b[0m\u001b[0;34m\u001b[0m\u001b[0m\n\u001b[0m\u001b[1;32m   1041\u001b[0m \u001b[0;34m\u001b[0m\u001b[0m\n\u001b[1;32m   1042\u001b[0m     \u001b[0;32mdef\u001b[0m \u001b[0m_failover_to_python\u001b[0m\u001b[0;34m(\u001b[0m\u001b[0mself\u001b[0m\u001b[0;34m)\u001b[0m\u001b[0;34m:\u001b[0m\u001b[0;34m\u001b[0m\u001b[0;34m\u001b[0m\u001b[0m\n",
      "\u001b[0;32m~/opt/anaconda3/lib/python3.8/site-packages/pandas/io/parsers/c_parser_wrapper.py\u001b[0m in \u001b[0;36m__init__\u001b[0;34m(self, src, **kwds)\u001b[0m\n\u001b[1;32m     49\u001b[0m \u001b[0;34m\u001b[0m\u001b[0m\n\u001b[1;32m     50\u001b[0m         \u001b[0;31m# open handles\u001b[0m\u001b[0;34m\u001b[0m\u001b[0;34m\u001b[0m\u001b[0;34m\u001b[0m\u001b[0m\n\u001b[0;32m---> 51\u001b[0;31m         \u001b[0mself\u001b[0m\u001b[0;34m.\u001b[0m\u001b[0m_open_handles\u001b[0m\u001b[0;34m(\u001b[0m\u001b[0msrc\u001b[0m\u001b[0;34m,\u001b[0m \u001b[0mkwds\u001b[0m\u001b[0;34m)\u001b[0m\u001b[0;34m\u001b[0m\u001b[0;34m\u001b[0m\u001b[0m\n\u001b[0m\u001b[1;32m     52\u001b[0m         \u001b[0;32massert\u001b[0m \u001b[0mself\u001b[0m\u001b[0;34m.\u001b[0m\u001b[0mhandles\u001b[0m \u001b[0;32mis\u001b[0m \u001b[0;32mnot\u001b[0m \u001b[0;32mNone\u001b[0m\u001b[0;34m\u001b[0m\u001b[0;34m\u001b[0m\u001b[0m\n\u001b[1;32m     53\u001b[0m \u001b[0;34m\u001b[0m\u001b[0m\n",
      "\u001b[0;32m~/opt/anaconda3/lib/python3.8/site-packages/pandas/io/parsers/base_parser.py\u001b[0m in \u001b[0;36m_open_handles\u001b[0;34m(self, src, kwds)\u001b[0m\n\u001b[1;32m    220\u001b[0m         \u001b[0mLet\u001b[0m \u001b[0mthe\u001b[0m \u001b[0mreaders\u001b[0m \u001b[0mopen\u001b[0m \u001b[0mIOHandles\u001b[0m \u001b[0mafter\u001b[0m \u001b[0mthey\u001b[0m \u001b[0mare\u001b[0m \u001b[0mdone\u001b[0m \u001b[0;32mwith\u001b[0m \u001b[0mtheir\u001b[0m \u001b[0mpotential\u001b[0m \u001b[0mraises\u001b[0m\u001b[0;34m.\u001b[0m\u001b[0;34m\u001b[0m\u001b[0;34m\u001b[0m\u001b[0m\n\u001b[1;32m    221\u001b[0m         \"\"\"\n\u001b[0;32m--> 222\u001b[0;31m         self.handles = get_handle(\n\u001b[0m\u001b[1;32m    223\u001b[0m             \u001b[0msrc\u001b[0m\u001b[0;34m,\u001b[0m\u001b[0;34m\u001b[0m\u001b[0;34m\u001b[0m\u001b[0m\n\u001b[1;32m    224\u001b[0m             \u001b[0;34m\"r\"\u001b[0m\u001b[0;34m,\u001b[0m\u001b[0;34m\u001b[0m\u001b[0;34m\u001b[0m\u001b[0m\n",
      "\u001b[0;32m~/opt/anaconda3/lib/python3.8/site-packages/pandas/io/common.py\u001b[0m in \u001b[0;36mget_handle\u001b[0;34m(path_or_buf, mode, encoding, compression, memory_map, is_text, errors, storage_options)\u001b[0m\n\u001b[1;32m    699\u001b[0m         \u001b[0;32mif\u001b[0m \u001b[0mioargs\u001b[0m\u001b[0;34m.\u001b[0m\u001b[0mencoding\u001b[0m \u001b[0;32mand\u001b[0m \u001b[0;34m\"b\"\u001b[0m \u001b[0;32mnot\u001b[0m \u001b[0;32min\u001b[0m \u001b[0mioargs\u001b[0m\u001b[0;34m.\u001b[0m\u001b[0mmode\u001b[0m\u001b[0;34m:\u001b[0m\u001b[0;34m\u001b[0m\u001b[0;34m\u001b[0m\u001b[0m\n\u001b[1;32m    700\u001b[0m             \u001b[0;31m# Encoding\u001b[0m\u001b[0;34m\u001b[0m\u001b[0;34m\u001b[0m\u001b[0;34m\u001b[0m\u001b[0m\n\u001b[0;32m--> 701\u001b[0;31m             handle = open(\n\u001b[0m\u001b[1;32m    702\u001b[0m                 \u001b[0mhandle\u001b[0m\u001b[0;34m,\u001b[0m\u001b[0;34m\u001b[0m\u001b[0;34m\u001b[0m\u001b[0m\n\u001b[1;32m    703\u001b[0m                 \u001b[0mioargs\u001b[0m\u001b[0;34m.\u001b[0m\u001b[0mmode\u001b[0m\u001b[0;34m,\u001b[0m\u001b[0;34m\u001b[0m\u001b[0;34m\u001b[0m\u001b[0m\n",
      "\u001b[0;31mFileNotFoundError\u001b[0m: [Errno 2] No such file or directory: 'male_stroke_data.csv'"
     ]
    }
   ],
   "source": [
    "# male_df = pd.read_excel(xlsx, 'Male')\n",
    "# female_df = pd.read_excel(xlsx, 'Female')\n",
    "male_df = pd.read_csv('male_stroke_data.csv')\n",
    "female_df = pd.read_csv('female_stroke_data.csv')"
   ]
  },
  {
   "cell_type": "code",
   "execution_count": null,
   "id": "3e0c5a74",
   "metadata": {},
   "outputs": [],
   "source": [
    "male_df.info()"
   ]
  },
  {
   "cell_type": "code",
   "execution_count": null,
   "id": "265da5fc",
   "metadata": {},
   "outputs": [],
   "source": [
    "female_df.info()"
   ]
  },
  {
   "cell_type": "code",
   "execution_count": null,
   "id": "46f6b121",
   "metadata": {},
   "outputs": [],
   "source": [
    "male_df.describe()"
   ]
  },
  {
   "cell_type": "code",
   "execution_count": null,
   "id": "69acac19",
   "metadata": {
    "scrolled": true
   },
   "outputs": [],
   "source": [
    "female_df.describe()"
   ]
  },
  {
   "cell_type": "markdown",
   "id": "4f175ef9",
   "metadata": {},
   "source": [
    "## Plot prep"
   ]
  },
  {
   "cell_type": "code",
   "execution_count": null,
   "id": "239cd4de",
   "metadata": {},
   "outputs": [],
   "source": [
    "def plot_hist(col, bins=30, title=\"\",xlabel=\"\",ax=None):\n",
    "    sns.histplot(col, bins=bins,ax=ax, kde=True, alpha=.4, edgecolor=(1, 1, 1, .4))\n",
    "    ax.set_title(f'Histogram of {title}',fontsize=20)\n",
    "    ax.set_xlabel(xlabel)"
   ]
  },
  {
   "cell_type": "code",
   "execution_count": null,
   "id": "2f224c42",
   "metadata": {},
   "outputs": [],
   "source": [
    "# male_df['LDL'] = male_df['LDL ']\n",
    "# male_df = male_df.drop(['LDL '], axis=1)"
   ]
  },
  {
   "cell_type": "code",
   "execution_count": null,
   "id": "fb47261d",
   "metadata": {},
   "outputs": [],
   "source": [
    "# female_df['LDL'] = female_df['LDL ']\n",
    "# female_df = female_df.drop(['LDL '], axis=1)"
   ]
  },
  {
   "cell_type": "code",
   "execution_count": null,
   "id": "7cc12321",
   "metadata": {},
   "outputs": [],
   "source": [
    "male_df.keys()"
   ]
  },
  {
   "cell_type": "markdown",
   "id": "f15d7e3f",
   "metadata": {},
   "source": [
    "## Male data EDA"
   ]
  },
  {
   "cell_type": "code",
   "execution_count": null,
   "id": "2054ca5b",
   "metadata": {},
   "outputs": [],
   "source": [
    "labels = male_df['Second_Stroke'].value_counts(sort = True).index\n",
    "sizes = male_df['Second_Stroke'].value_counts(sort = True)\n",
    "\n",
    "colors = [\"steelblue\",\"lightblue\"]\n",
    "explode = (0.05,0) \n",
    " \n",
    "plt.figure(figsize=(6,6))\n",
    "plt.pie(sizes, explode=explode, labels=labels, colors=colors, autopct='%1.1f%%', shadow=True, startangle=90)\n",
    "\n",
    "plt.title('Number of male patients with a second stroke in the dataset')\n",
    "plt.show()"
   ]
  },
  {
   "cell_type": "code",
   "execution_count": null,
   "id": "abc66ea2",
   "metadata": {},
   "outputs": [],
   "source": [
    "fig, axes = plt.subplots(1,3,figsize=(11,7),constrained_layout=True)\n",
    "plot_hist(male_df.HbA1c,\n",
    "          title='HbA1c',\n",
    "          xlabel=\"Level of HbA1c\",\n",
    "          ax=axes[0])\n",
    "plot_hist(male_df.age,\n",
    "          bins=30,\n",
    "          title='Age',\n",
    "          xlabel='Age',\n",
    "          ax=axes[1])\n",
    "plot_hist(male_df.cholesterol,\n",
    "          title='Level of Cholesterol', \n",
    "          xlabel='Level of cholesterol in the blood',\n",
    "          ax=axes[2])\n",
    "\n",
    "plt.show()"
   ]
  },
  {
   "cell_type": "markdown",
   "id": "856ff029",
   "metadata": {},
   "source": [
    "## Female data EDA"
   ]
  },
  {
   "cell_type": "code",
   "execution_count": null,
   "id": "b2a7b4ce",
   "metadata": {
    "scrolled": true
   },
   "outputs": [],
   "source": [
    "labels = female_df['Second_Stroke'].value_counts(sort = True).index\n",
    "sizes = female_df['Second_Stroke'].value_counts(sort = True)\n",
    "\n",
    "colors = [\"steelblue\",\"lightblue\"]\n",
    "explode = (0.05,0) \n",
    " \n",
    "plt.figure(figsize=(6,6))\n",
    "plt.pie(sizes, explode=explode, labels=labels, colors=colors, autopct='%1.1f%%', shadow=True, startangle=90)\n",
    "\n",
    "plt.title('Number of male patients with a second stroke in the dataset')\n",
    "plt.show()"
   ]
  },
  {
   "cell_type": "code",
   "execution_count": null,
   "id": "a1c9cdf7",
   "metadata": {},
   "outputs": [],
   "source": [
    "fig, axes = plt.subplots(1,3,figsize=(11,7),constrained_layout=True)\n",
    "plot_hist(female_df.HbA1c,\n",
    "          title='HbA1c',\n",
    "          xlabel=\"Level of HbA1c\",\n",
    "          ax=axes[0])\n",
    "plot_hist(female_df.age,\n",
    "          bins=30,\n",
    "          title='Age',\n",
    "          xlabel='Age',\n",
    "          ax=axes[1])\n",
    "plot_hist(female_df.cholesterol,\n",
    "          title='Level of Cholesterol', \n",
    "          xlabel='Level of cholesterol in the blood',\n",
    "          ax=axes[2])\n",
    "\n",
    "plt.show()"
   ]
  },
  {
   "cell_type": "code",
   "execution_count": null,
   "id": "f4a0ea04",
   "metadata": {},
   "outputs": [],
   "source": [
    "fig, axes = plt.subplots(1,3,figsize=(11,7),constrained_layout=True)\n",
    "# fig, (ax0, ax1, ax2) = plt.subplots(nrows=1, ncols=3)\n",
    "\n",
    "plot_hist([male_df.HbA1c, female_df.HbA1c], ax=axes[0], xlabel=\"Level of HbA1c\")\n",
    "# ax.legend(prop={'size': 7})\n",
    "\n",
    "plot_hist([male_df.age, female_df.age], ax=axes[1],  xlabel=\"Age comparison\")\n",
    "# ax.legend(prop={'size': 7})\n",
    "\n",
    "plot_hist([male_df.cholesterol, female_df.cholesterol], ax=axes[2], xlabel=\"Level of cholesterol in the blood\")\n",
    "\n",
    "# Make a multiple-histogram of data-sets with different length.\n",
    "# x_multi = [np.random.randn(n) for n in [10000, 5000, 2000]]\n",
    "# ax3.hist(x_multi, n_bins, histtype='bar')\n",
    "# ax3.set_title('different sample sizes')\n",
    "\n",
    "# fig.tight_layout()\n",
    "plt.show()"
   ]
  },
  {
   "cell_type": "code",
   "execution_count": null,
   "id": "6d132d37",
   "metadata": {
    "scrolled": false
   },
   "outputs": [],
   "source": [
    "fig, axes = plt.subplots(1,3,figsize=(15,8))\n",
    "# constrained_layout=True\n",
    "\n",
    "colors = ['red', 'tan']\n",
    "x = (male_df['HbA1c'], female_df['HbA1c'])\n",
    "label = ['male', 'female']\n",
    "axes[0].hist(x, density=True, histtype='bar', color=colors, label=label)\n",
    "axes[0].legend(prop={'size': 10})\n",
    "axes[0].set_title('Level of HbA1c')\n",
    "\n",
    "x = (male_df['age'], female_df['age'])\n",
    "axes[1].hist(x, density=True, histtype='bar', color=colors, label=label)\n",
    "axes[1].legend(prop={'size': 10})\n",
    "axes[1].set_title('Age of patients')\n",
    "\n",
    "\n",
    "x = (male_df['cholesterol'], female_df['cholesterol'])\n",
    "axes[2].hist(x, density=True, histtype='bar', color=colors, label=label)\n",
    "axes[2].legend(prop={'size': 10})\n",
    "axes[2].set_title('Level of cholesterol in the blood')"
   ]
  },
  {
   "cell_type": "code",
   "execution_count": null,
   "id": "1658cfac",
   "metadata": {},
   "outputs": [],
   "source": [
    "fig, axes = plt.subplots(1,3,figsize=(15,8))\n",
    "# constrained_layout=True\n",
    "\n",
    "colors = ['red', 'tan']\n",
    "\n",
    "x = (male_df['HLOS'], female_df['HLOS'])\n",
    "label = ['male', 'female']\n",
    "axes[0].hist(x, density=True, histtype='bar', color=colors, label=label)\n",
    "axes[0].legend(prop={'size': 10})\n",
    "axes[0].set_title('Levels of HLOS')\n",
    "\n",
    "x = (male_df['NIHSS'], female_df['NIHSS'])\n",
    "axes[1].hist(x, density=True, histtype='bar', color=colors, label=label)\n",
    "axes[1].legend(prop={'size': 10})\n",
    "axes[1].set_title('Levels of NIHSS')\n",
    "\n",
    "\n",
    "x = (male_df['tPA(0/1)'], female_df['tPA(0/1)'])\n",
    "axes[2].hist(x, density=True, histtype='bar', color=colors, label=label)\n",
    "axes[2].legend(prop={'size': 10})\n",
    "axes[2].set_title('tPA(0/1)')"
   ]
  },
  {
   "cell_type": "code",
   "execution_count": null,
   "id": "f0ea5a50",
   "metadata": {},
   "outputs": [],
   "source": [
    "fig, axes = plt.subplots(1,3,figsize=(15,8))\n",
    "\n",
    "x = (male_df['EVT(0/1)'], female_df['EVT(0/1)'])\n",
    "label = ['male', 'female']\n",
    "axes[0].hist(x, density=True, histtype='bar', color=colors, label=label)\n",
    "axes[0].legend(prop={'size': 10})\n",
    "axes[0].set_title('EVT(0/1)')\n",
    "\n",
    "x = (male_df['HTN(0/1)'], female_df['HTN(0/1)'])\n",
    "axes[1].hist(x, density=True, histtype='bar', color=colors, label=label)\n",
    "axes[1].legend(prop={'size': 10})\n",
    "axes[1].set_title('HTN(0/1)')\n",
    "\n",
    "\n",
    "x = (male_df['DM(0/1)'], female_df['DM(0/1)'])\n",
    "axes[2].hist(x, density=True, histtype='bar', color=colors, label=label)\n",
    "axes[2].legend(prop={'size': 10})\n",
    "axes[2].set_title('DM(0/1)')"
   ]
  },
  {
   "cell_type": "code",
   "execution_count": null,
   "id": "e68cb375",
   "metadata": {},
   "outputs": [],
   "source": [
    "fig, axes = plt.subplots(1,3,figsize=(15,8))\n",
    "\n",
    "x = (male_df['Af(0/1)'], female_df['Af(0/1)'])\n",
    "label = ['male', 'female']\n",
    "axes[0].hist(x, density=True, histtype='bar', color=colors, label=label)\n",
    "axes[0].legend(prop={'size': 10})\n",
    "axes[0].set_title('Af(0/1)')\n",
    "\n",
    "x = (male_df['smoking(Y/N/Q)'], female_df['smoking(Y/N/Q)'])\n",
    "axes[1].hist(x, density=True, histtype='bar', color=colors, label=label)\n",
    "axes[1].legend(prop={'size': 10})\n",
    "axes[1].set_title('smoking(Y/N/Q)')\n",
    "\n",
    "\n",
    "x = (male_df['LDL '], female_df['LDL '])\n",
    "axes[2].hist(x, density=True, histtype='bar', color=colors, label=label)\n",
    "axes[2].legend(prop={'size': 10})\n",
    "axes[2].set_title('LDL')"
   ]
  },
  {
   "cell_type": "code",
   "execution_count": null,
   "id": "bae476be",
   "metadata": {},
   "outputs": [],
   "source": [
    "fig, axes = plt.subplots(1,3,figsize=(15,8))\n",
    "\n",
    "x = (male_df['cholesterol'], female_df['cholesterol'])\n",
    "label = ['male', 'female']\n",
    "axes[0].hist(x, density=True, histtype='bar', color=colors, label=label)\n",
    "axes[0].legend(prop={'size': 10})\n",
    "axes[0].set_title('cholesterol')\n",
    "\n",
    "x = (male_df['TG'], female_df['TG'])\n",
    "axes[1].hist(x, density=True, histtype='bar', color=colors, label=label)\n",
    "axes[1].legend(prop={'size': 10})\n",
    "axes[1].set_title('TG')\n",
    "\n",
    "\n",
    "x = (male_df['Cre'], female_df['Cre'])\n",
    "axes[2].hist(x, density=True, histtype='bar', color=colors, label=label)\n",
    "axes[2].legend(prop={'size': 10})\n",
    "axes[2].set_title('Cre')"
   ]
  },
  {
   "cell_type": "code",
   "execution_count": null,
   "id": "ffae4234",
   "metadata": {
    "scrolled": false
   },
   "outputs": [],
   "source": [
    "fig, axes = plt.subplots(1,3,figsize=(15,8))\n",
    "\n",
    "x = (male_df['SGPT'], female_df['SGPT'])\n",
    "label = ['male', 'female']\n",
    "axes[0].hist(x, density=True, histtype='bar', color=colors, label=label)\n",
    "axes[0].legend(prop={'size': 10})\n",
    "axes[0].set_title('SGPT')\n",
    "\n",
    "x = (male_df['HbA1c'], female_df['HbA1c'])\n",
    "axes[1].hist(x, density=True, histtype='bar', color=colors, label=label)\n",
    "axes[1].legend(prop={'size': 10})\n",
    "axes[1].set_title('HbA1c')\n",
    "\n",
    "\n",
    "x = (male_df['MRS'], female_df['MRS'])\n",
    "axes[2].hist(x, density=True, histtype='bar', color=colors, label=label)\n",
    "axes[2].legend(prop={'size': 10})\n",
    "axes[2].set_title('MRS')"
   ]
  },
  {
   "cell_type": "code",
   "execution_count": null,
   "id": "2634afbb",
   "metadata": {},
   "outputs": [],
   "source": [
    "plt.matshow(male_df.corr())\n",
    "plt.show()"
   ]
  },
  {
   "cell_type": "code",
   "execution_count": null,
   "id": "2408adc7",
   "metadata": {},
   "outputs": [],
   "source": [
    "plt.matshow(female_df.corr())\n",
    "plt.show()"
   ]
  },
  {
   "cell_type": "code",
   "execution_count": null,
   "id": "07665b11",
   "metadata": {},
   "outputs": [],
   "source": [
    "corr = female_df.corr()\n",
    "corr.style.background_gradient(cmap='coolwarm').set_properties(**{'font-size': '0pt'})"
   ]
  },
  {
   "cell_type": "code",
   "execution_count": null,
   "id": "bb570ccb",
   "metadata": {},
   "outputs": [],
   "source": [
    "import seaborn as sns\n",
    "\n",
    "f, ax = plt.subplots(figsize=(20, 20))\n",
    "corr = male_df.corr()\n",
    "sns.heatmap(corr,\n",
    "    cmap=sns.diverging_palette(240, 10, as_cmap=True),\n",
    "    vmin=0, vmax=1.0,\n",
    "#     vmin=-1.0, vmax=1.0,\n",
    "    square=True, ax=ax)"
   ]
  },
  {
   "cell_type": "code",
   "execution_count": null,
   "id": "5f4df0e7",
   "metadata": {},
   "outputs": [],
   "source": [
    "import seaborn as sns\n",
    "\n",
    "f, ax = plt.subplots(figsize=(20, 20))\n",
    "corr = female_df.corr()\n",
    "sns.heatmap(corr,\n",
    "    cmap=sns.diverging_palette(240, 10, as_cmap=True),\n",
    "    vmin=0, vmax=1.0,\n",
    "#     vmin=-1.0, vmax=1.0,\n",
    "    square=True, ax=ax)"
   ]
  },
  {
   "cell_type": "code",
   "execution_count": null,
   "id": "17bc9c57",
   "metadata": {
    "scrolled": true
   },
   "outputs": [],
   "source": [
    "corr = male_df.corr()\n",
    "corr.style.background_gradient(cmap='coolwarm').set_properties(**{'font-size': '0pt'})"
   ]
  },
  {
   "cell_type": "code",
   "execution_count": null,
   "id": "48770b8c",
   "metadata": {},
   "outputs": [],
   "source": [
    "from copy import copy\n",
    "\n",
    "df = male_df\n",
    "#your correlation array\n",
    "corr = df.corr().to_numpy()\n",
    "print(corr)\n",
    "\n",
    "#conditions for filtering 0.6<=r<=0.9\n",
    "val_min = 0.6\n",
    "val_max = 0.99\n",
    "\n",
    "#plotting starts here\n",
    "sns.set(font_scale=2.4)\n",
    "#two axis objects just for comparison purposes\n",
    "fig, (ax1, ax2) = plt.subplots(1, 2, figsize=(15,8))\n",
    "\n",
    "#define the colormap with clipping values\n",
    "my_cmap = copy(plt.cm.YlGnBu)\n",
    "my_cmap.set_over(\"white\")\n",
    "my_cmap.set_under(\"white\")\n",
    "\n",
    "#ax1 - full set of conditions as in the initial version \n",
    "g1 = sns.heatmap(corr,\n",
    "    xticklabels=labels,\n",
    "    yticklabels=labels,\n",
    "    vmin=val_min,\n",
    "    vmax=val_max,\n",
    "    cmap=my_cmap,\n",
    "    linewidths=1.0,\n",
    "    linecolor=\"grey\",\n",
    "    ax=ax1)\n",
    "\n",
    "g1.set_title(\"Entire heatmap\")\n",
    "\n",
    "#ax2 - remove empty rows/columns\n",
    "# use only lower triangle\n",
    "corr = np.tril(corr)\n",
    "\n",
    "#delete columns where all elements do not fulfill the conditions\n",
    "ind_x,  = np.where(np.all(np.logical_or(corr<val_min, corr>val_max), axis=0))\n",
    "corr = np.delete(corr, ind_x, 1)\n",
    "#update x labels\n",
    "map_labels_x = [item for i, item in enumerate(labels) if i not in ind_x]\n",
    "    \n",
    "#now the same for rows \n",
    "ind_y, = np.where(np.all(np.logical_or(corr<val_min, corr>val_max), axis=1))\n",
    "corr = np.delete(corr, ind_y, 0)\n",
    "#update y labels\n",
    "map_labels_y = [item for i, item in enumerate(labels) if i not in ind_y]\n",
    "\n",
    "#plot heatmap\n",
    "g2 = sns.heatmap(corr,\n",
    "    xticklabels=map_labels_x,\n",
    "    yticklabels=map_labels_y,\n",
    "    vmin=val_min,\n",
    "    vmax=val_max,\n",
    "    cmap=my_cmap,\n",
    "    linewidths=1.0,\n",
    "    linecolor=\"grey\", ax=ax2)\n",
    "\n",
    "g2.set_title(\"Reduced heatmap\")\n",
    "\n",
    "plt.show()"
   ]
  },
  {
   "cell_type": "code",
   "execution_count": null,
   "id": "241ad070",
   "metadata": {},
   "outputs": [],
   "source": []
  }
 ],
 "metadata": {
  "kernelspec": {
   "display_name": "Python 3",
   "language": "python",
   "name": "python3"
  },
  "language_info": {
   "codemirror_mode": {
    "name": "ipython",
    "version": 3
   },
   "file_extension": ".py",
   "mimetype": "text/x-python",
   "name": "python",
   "nbconvert_exporter": "python",
   "pygments_lexer": "ipython3",
   "version": "3.8.10"
  }
 },
 "nbformat": 4,
 "nbformat_minor": 5
}
